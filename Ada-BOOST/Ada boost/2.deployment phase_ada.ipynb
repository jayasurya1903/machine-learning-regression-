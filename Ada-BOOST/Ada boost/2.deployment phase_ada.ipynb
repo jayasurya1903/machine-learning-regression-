{
 "cells": [
  {
   "cell_type": "code",
   "execution_count": 1,
   "id": "ba6443cb-9b46-4edf-87ab-833a536171de",
   "metadata": {},
   "outputs": [],
   "source": [
    "import pickle"
   ]
  },
  {
   "cell_type": "code",
   "execution_count": 2,
   "id": "e8a06210-5b55-4269-8d3a-635ff3e6fdf4",
   "metadata": {},
   "outputs": [
    {
     "name": "stderr",
     "output_type": "stream",
     "text": [
      "C:\\Users\\jayas\\anaconda3\\Lib\\site-packages\\sklearn\\utils\\validation.py:2739: UserWarning: X does not have valid feature names, but AdaBoostRegressor was fitted with feature names\n",
      "  warnings.warn(\n"
     ]
    }
   ],
   "source": [
    "load_model=pickle.load(open(\"finalized_model_ada_boost.sav\" ,\"rb\")) # load the model from the file\n",
    "result=load_model.predict([[50,30.970,3,1,0]])"
   ]
  },
  {
   "cell_type": "code",
   "execution_count": 3,
   "id": "e0fb7e1f-7fcc-461f-bcff-8bbd78dad062",
   "metadata": {},
   "outputs": [
    {
     "data": {
      "text/plain": [
       "array([10513.03110097])"
      ]
     },
     "execution_count": 3,
     "metadata": {},
     "output_type": "execute_result"
    }
   ],
   "source": [
    "result"
   ]
  },
  {
   "cell_type": "code",
   "execution_count": null,
   "id": "d1b05a5e-5db7-4370-99f6-94af40178b67",
   "metadata": {},
   "outputs": [],
   "source": []
  }
 ],
 "metadata": {
  "kernelspec": {
   "display_name": "Python 3 (ipykernel)",
   "language": "python",
   "name": "python3"
  },
  "language_info": {
   "codemirror_mode": {
    "name": "ipython",
    "version": 3
   },
   "file_extension": ".py",
   "mimetype": "text/x-python",
   "name": "python",
   "nbconvert_exporter": "python",
   "pygments_lexer": "ipython3",
   "version": "3.13.5"
  }
 },
 "nbformat": 4,
 "nbformat_minor": 5
}
