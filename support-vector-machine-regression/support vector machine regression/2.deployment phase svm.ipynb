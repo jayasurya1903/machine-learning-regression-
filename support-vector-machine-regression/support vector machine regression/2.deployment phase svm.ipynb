{
 "cells": [
  {
   "cell_type": "code",
   "execution_count": 1,
   "id": "b99754e6-0e56-4f73-9ee4-9df850b28124",
   "metadata": {},
   "outputs": [],
   "source": [
    "import pickle"
   ]
  },
  {
   "cell_type": "code",
   "execution_count": 2,
   "id": "0a465ccf-ae4a-42b7-a8ac-13d9b3b84704",
   "metadata": {},
   "outputs": [
    {
     "name": "stderr",
     "output_type": "stream",
     "text": [
      "C:\\Users\\jayas\\anaconda3\\Lib\\site-packages\\sklearn\\utils\\validation.py:2739: UserWarning: X does not have valid feature names, but SVR was fitted with feature names\n",
      "  warnings.warn(\n"
     ]
    }
   ],
   "source": [
    "load_model=pickle.load(open(\"finalized_model_svm_regression.sav\" ,\"rb\")) # load the model from the file\n",
    "result=load_model.predict([[30000,46678,50000,True,False]])"
   ]
  },
  {
   "cell_type": "code",
   "execution_count": 3,
   "id": "92876b7f-6ca2-43b1-a4d9-06a7a13c311d",
   "metadata": {},
   "outputs": [
    {
     "data": {
      "text/plain": [
       "array([68378.93450663])"
      ]
     },
     "execution_count": 3,
     "metadata": {},
     "output_type": "execute_result"
    }
   ],
   "source": [
    "result"
   ]
  },
  {
   "cell_type": "code",
   "execution_count": null,
   "id": "2eb3f12c-9dea-4f14-a2e7-6f8a320391d8",
   "metadata": {},
   "outputs": [],
   "source": []
  }
 ],
 "metadata": {
  "kernelspec": {
   "display_name": "Python 3 (ipykernel)",
   "language": "python",
   "name": "python3"
  },
  "language_info": {
   "codemirror_mode": {
    "name": "ipython",
    "version": 3
   },
   "file_extension": ".py",
   "mimetype": "text/x-python",
   "name": "python",
   "nbconvert_exporter": "python",
   "pygments_lexer": "ipython3",
   "version": "3.13.5"
  }
 },
 "nbformat": 4,
 "nbformat_minor": 5
}
