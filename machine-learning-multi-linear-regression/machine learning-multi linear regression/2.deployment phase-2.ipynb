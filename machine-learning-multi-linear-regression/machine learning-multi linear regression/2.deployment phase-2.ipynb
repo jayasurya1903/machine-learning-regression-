{
 "cells": [
  {
   "cell_type": "code",
   "execution_count": 2,
   "id": "a5efba50-e34a-41d7-814b-afcdc857b836",
   "metadata": {},
   "outputs": [],
   "source": [
    "import pickle"
   ]
  },
  {
   "cell_type": "code",
   "execution_count": 7,
   "id": "9de83d58-092f-44bd-acbc-5cb9229fa755",
   "metadata": {},
   "outputs": [
    {
     "name": "stderr",
     "output_type": "stream",
     "text": [
      "C:\\Users\\jayas\\anaconda3\\Lib\\site-packages\\sklearn\\utils\\validation.py:2739: UserWarning: X does not have valid feature names, but LinearRegression was fitted with feature names\n",
      "  warnings.warn(\n"
     ]
    }
   ],
   "source": [
    "load_model=pickle.load(open(\"finalized_model_multi_linear_regression.sav\" ,\"rb\")) # load the model from the file\n",
    "result=load_model.predict([[30000,67650,50000,0,0]])"
   ]
  },
  {
   "cell_type": "code",
   "execution_count": 8,
   "id": "d14c75eb-aa2f-4cc5-b777-c5cfc3184080",
   "metadata": {},
   "outputs": [
    {
     "data": {
      "text/plain": [
       "array([[69722.63598559]])"
      ]
     },
     "execution_count": 8,
     "metadata": {},
     "output_type": "execute_result"
    }
   ],
   "source": [
    "result"
   ]
  },
  {
   "cell_type": "code",
   "execution_count": null,
   "id": "59da5030-030d-42b4-96a1-a7b065631b45",
   "metadata": {},
   "outputs": [],
   "source": []
  }
 ],
 "metadata": {
  "kernelspec": {
   "display_name": "Python 3 (ipykernel)",
   "language": "python",
   "name": "python3"
  },
  "language_info": {
   "codemirror_mode": {
    "name": "ipython",
    "version": 3
   },
   "file_extension": ".py",
   "mimetype": "text/x-python",
   "name": "python",
   "nbconvert_exporter": "python",
   "pygments_lexer": "ipython3",
   "version": "3.13.5"
  }
 },
 "nbformat": 4,
 "nbformat_minor": 5
}
