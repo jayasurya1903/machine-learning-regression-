{
 "cells": [
  {
   "cell_type": "code",
   "execution_count": 1,
   "id": "af3039e3-1735-49a0-b073-6fde411a9314",
   "metadata": {},
   "outputs": [],
   "source": [
    "import pickle"
   ]
  },
  {
   "cell_type": "code",
   "execution_count": 3,
   "id": "50038c89-99e3-4031-8c1b-bf06d1e2cb82",
   "metadata": {},
   "outputs": [],
   "source": [
    "load_model=pickle.load(open(\"finalized_model_XG_BOOST.sav\" ,\"rb\")) # load the model from the file\n",
    "result=load_model.predict([[50,30.970,3,1,0]])"
   ]
  },
  {
   "cell_type": "code",
   "execution_count": 4,
   "id": "1e8196ce-91c6-4a69-a8b8-86523e3553b2",
   "metadata": {},
   "outputs": [
    {
     "data": {
      "text/plain": [
       "array([13725.939], dtype=float32)"
      ]
     },
     "execution_count": 4,
     "metadata": {},
     "output_type": "execute_result"
    }
   ],
   "source": [
    "result"
   ]
  },
  {
   "cell_type": "code",
   "execution_count": null,
   "id": "1e5ac1bc-e8cf-425a-b76b-fac39284bf50",
   "metadata": {},
   "outputs": [],
   "source": []
  }
 ],
 "metadata": {
  "kernelspec": {
   "display_name": "Python 3 (ipykernel)",
   "language": "python",
   "name": "python3"
  },
  "language_info": {
   "codemirror_mode": {
    "name": "ipython",
    "version": 3
   },
   "file_extension": ".py",
   "mimetype": "text/x-python",
   "name": "python",
   "nbconvert_exporter": "python",
   "pygments_lexer": "ipython3",
   "version": "3.13.5"
  }
 },
 "nbformat": 4,
 "nbformat_minor": 5
}
